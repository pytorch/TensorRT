{
  "cells": [
    {
      "cell_type": "markdown",
      "metadata": {},
      "source": [
        "\n\n# Mutable Torch TensorRT Module\n\nWe are going to demonstrate how we can easily use Mutable Torch TensorRT Module to compile, interact, and modify the TensorRT Graph Module.\n\nCompiling a Torch-TensorRT module is straightforward, but modifying the compiled module can be challenging, especially when it comes to maintaining the state and connection between the PyTorch module and the corresponding Torch-TensorRT module.\nIn Ahead-of-Time (AoT) scenarios, integrating Torch TensorRT with complex pipelines, such as the Hugging Face Stable Diffusion pipeline, becomes even more difficult.\nThe Mutable Torch TensorRT Module is designed to address these challenges, making interaction with the Torch-TensorRT module easier than ever.\n\nIn this tutorial, we are going to walk through\n    1. Sample workflow of Mutable Torch TensorRT Module with ResNet 18\n    2. Save a Mutable Torch TensorRT Module\n    3. Integration with Huggingface pipeline in LoRA use case\n    4. Usage of dynamic shape with Mutable Torch TensorRT Module\n"
      ]
    },
    {
      "cell_type": "code",
      "execution_count": null,
      "metadata": {
        "collapsed": false
      },
      "outputs": [],
      "source": [
        "import numpy as np\nimport torch\nimport torch_tensorrt as torch_trt\nimport torchvision.models as models\n\nnp.random.seed(5)\ntorch.manual_seed(5)\ninputs = [torch.rand((1, 3, 224, 224)).to(\"cuda\")]"
      ]
    },
    {
      "cell_type": "markdown",
      "metadata": {},
      "source": [
        "## Initialize the Mutable Torch TensorRT Module with settings.\n\n"
      ]
    },
    {
      "cell_type": "code",
      "execution_count": null,
      "metadata": {
        "collapsed": false
      },
      "outputs": [],
      "source": [
        "settings = {\n    \"use_python\": False,\n    \"enabled_precisions\": {torch.float32},\n    \"immutable_weights\": False,\n}\n\nmodel = models.resnet18(pretrained=True).eval().to(\"cuda\")\nmutable_module = torch_trt.MutableTorchTensorRTModule(model, **settings)\n# You can use the mutable module just like the original pytorch module. The compilation happens while you first call the mutable module.\nmutable_module(*inputs)"
      ]
    },
    {
      "cell_type": "markdown",
      "metadata": {},
      "source": [
        "## Make modifications to the mutable module.\n\n"
      ]
    },
    {
      "cell_type": "markdown",
      "metadata": {},
      "source": [
        "Making changes to mutable module can trigger refit or re-compilation. For example, loading a different state_dict and setting new weight values will trigger refit, and adding a module to the model will trigger re-compilation.\n\n"
      ]
    },
    {
      "cell_type": "code",
      "execution_count": null,
      "metadata": {
        "collapsed": false
      },
      "outputs": [],
      "source": [
        "model2 = models.resnet18(pretrained=False).eval().to(\"cuda\")\nmutable_module.load_state_dict(model2.state_dict())\n\n\n# Check the output\n# The refit happens while you call the mutable module again.\nexpected_outputs, refitted_outputs = model2(*inputs), mutable_module(*inputs)\nfor expected_output, refitted_output in zip(expected_outputs, refitted_outputs):\n    assert torch.allclose(\n        expected_output, refitted_output, 1e-2, 1e-2\n    ), \"Refit Result is not correct. Refit failed\"\n\nprint(\"Refit successfully!\")"
      ]
    },
    {
      "cell_type": "markdown",
      "metadata": {},
      "source": [
        "## Saving Mutable Torch TensorRT Module\n\n"
      ]
    },
    {
      "cell_type": "code",
      "execution_count": null,
      "metadata": {
        "collapsed": false
      },
      "outputs": [],
      "source": [
        "# Currently, saving is only enabled when \"use_python_runtime\" = False in settings\ntorch_trt.MutableTorchTensorRTModule.save(mutable_module, \"mutable_module.pkl\")\nreload = torch_trt.MutableTorchTensorRTModule.load(\"mutable_module.pkl\")"
      ]
    },
    {
      "cell_type": "markdown",
      "metadata": {},
      "source": [
        "## Stable Diffusion with Huggingface\n\n"
      ]
    },
    {
      "cell_type": "code",
      "execution_count": null,
      "metadata": {
        "collapsed": false
      },
      "outputs": [],
      "source": [
        "from diffusers import DiffusionPipeline\n\nwith torch.no_grad():\n    settings = {\n        \"use_python_runtime\": True,\n        \"enabled_precisions\": {torch.float16},\n        \"debug\": True,\n        \"immutable_weights\": False,\n    }\n\n    model_id = \"stabilityai/stable-diffusion-xl-base-1.0\"\n    device = \"cuda:0\"\n\n    prompt = \"cinematic photo elsa, police uniform <lora:princess_xl_v2:0.8>, . 35mm photograph, film, bokeh, professional, 4k, highly detailed\"\n    negative = \"drawing, painting, crayon, sketch, graphite, impressionist, noisy, blurry, soft, deformed, ugly, nude\"\n\n    pipe = DiffusionPipeline.from_pretrained(model_id, torch_dtype=torch.float16)\n    pipe.to(device)\n\n    # The only extra line you need\n    pipe.unet = torch_trt.MutableTorchTensorRTModule(pipe.unet, **settings)\n    BATCH = torch.export.Dim(\"BATCH\", min=2, max=24)\n    _HEIGHT = torch.export.Dim(\"_HEIGHT\", min=16, max=32)\n    _WIDTH = torch.export.Dim(\"_WIDTH\", min=16, max=32)\n    HEIGHT = 4 * _HEIGHT\n    WIDTH = 4 * _WIDTH\n    args_dynamic_shapes = ({0: BATCH, 2: HEIGHT, 3: WIDTH}, {})\n    kwargs_dynamic_shapes = {\n        \"encoder_hidden_states\": {0: BATCH},\n        \"added_cond_kwargs\": {\n            \"text_embeds\": {0: BATCH},\n            \"time_ids\": {0: BATCH},\n        },\n    }\n    pipe.unet.set_expected_dynamic_shape_range(\n        args_dynamic_shapes, kwargs_dynamic_shapes\n    )\n    image = pipe(\n        prompt,\n        negative_prompt=negative,\n        num_inference_steps=30,\n        height=1024,\n        width=768,\n        num_images_per_prompt=2,\n    ).images[0]\n    image.save(\"./without_LoRA_mutable.jpg\")\n\n    # Standard Huggingface LoRA loading procedure\n    pipe.load_lora_weights(\n        \"stablediffusionapi/load_lora_embeddings\",\n        weight_name=\"all-disney-princess-xl-lo.safetensors\",\n        adapter_name=\"lora1\",\n    )\n    pipe.set_adapters([\"lora1\"], adapter_weights=[1])\n    pipe.fuse_lora()\n    pipe.unload_lora_weights()\n\n    # Refit triggered\n    image = pipe(\n        prompt,\n        negative_prompt=negative,\n        num_inference_steps=30,\n        height=1024,\n        width=1024,\n        num_images_per_prompt=1,\n    ).images[0]\n    image.save(\"./with_LoRA_mutable.jpg\")"
      ]
    },
    {
      "cell_type": "markdown",
      "metadata": {},
      "source": [
        "## Use Mutable Torch TensorRT module with dynamic shape\nWhen adding dynamic shape hint to MutableTorchTensorRTModule, The shape hint should EXACTLY follow the semantics of arg_inputs and kwarg_inputs passed to the forward function\nand should not omit any entries (except None in the kwarg_inputs). If there is a nested dict/list in the input, the dynamic shape for that entry should also be an nested dict/list.\nIf the dynamic shape is not required for an input, an empty dictionary should be given as the shape hint for that input.\nNote that you should exclude keyword arguments with value None as those will be filtered out.\n\n"
      ]
    },
    {
      "cell_type": "code",
      "execution_count": null,
      "metadata": {
        "collapsed": false
      },
      "outputs": [],
      "source": [
        "class Model(torch.nn.Module):\n    def __init__(self):\n        super().__init__()\n\n    def forward(self, a, b, c={}):\n        x = torch.matmul(a, b)\n        x = torch.matmul(c[\"a\"], c[\"b\"].T)\n        print(c[\"b\"][0])\n        x = 2 * c[\"b\"]\n        return x\n\n\ndevice = \"cuda:0\"\nmodel = Model().eval().to(device)\ninputs = (torch.rand(10, 3).to(device), torch.rand(3, 30).to(device))\nkwargs = {\n    \"c\": {\"a\": torch.rand(10, 30).to(device), \"b\": torch.rand(10, 30).to(device)},\n}\ndim_0 = torch.export.Dim(\"dim\", min=1, max=50)\ndim_1 = torch.export.Dim(\"dim\", min=1, max=50)\ndim_2 = torch.export.Dim(\"dim2\", min=1, max=50)\nargs_dynamic_shapes = ({1: dim_1}, {0: dim_0})\nkwarg_dynamic_shapes = {\n    \"c\": {\n        \"a\": {},\n        \"b\": {0: dim_2},\n    },  # a's shape does not change so we give it an empty dict\n}\n# Export the model first with custom dynamic shape constraints\nmodel = torch_trt.MutableTorchTensorRTModule(model, debug=True, min_block_size=1)\nmodel.set_expected_dynamic_shape_range(args_dynamic_shapes, kwarg_dynamic_shapes)\n# Compile\nmodel(*inputs, **kwargs)\n# Change input shape\ninputs_2 = (torch.rand(10, 5).to(device), torch.rand(10, 30).to(device))\nkwargs_2 = {\n    \"c\": {\"a\": torch.rand(10, 30).to(device), \"b\": torch.rand(5, 30).to(device)},\n}\n# Run without recompiling\nmodel(*inputs_2, **kwargs_2)"
      ]
    },
    {
      "cell_type": "markdown",
      "metadata": {},
      "source": [
        "## Use Mutable Torch TensorRT module with persistent cache\nLeveraging engine caching, we are able to shortcut the engine compilation and save much time.\n\n"
      ]
    },
    {
      "cell_type": "code",
      "execution_count": null,
      "metadata": {
        "collapsed": false
      },
      "outputs": [],
      "source": [
        "import os\n\nfrom torch_tensorrt.dynamo._defaults import TIMING_CACHE_PATH\n\nmodel = models.resnet18(pretrained=True).eval().to(\"cuda\")\n\ntimes = []\nstart = torch.cuda.Event(enable_timing=True)\nend = torch.cuda.Event(enable_timing=True)\n\nexample_inputs = (torch.randn((100, 3, 224, 224)).to(\"cuda\"),)\nmodel = torch_trt.MutableTorchTensorRTModule(\n    model,\n    use_python_runtime=True,\n    enabled_precisions={torch.float},\n    debug=True,\n    min_block_size=1,\n    immutable_weights=False,\n    cache_built_engines=True,\n    reuse_cached_engines=True,\n    engine_cache_size=1 << 30,  # 1GB\n)\n\n\ndef remove_timing_cache(path=TIMING_CACHE_PATH):\n    if os.path.exists(path):\n        os.remove(path)\n\n\nremove_timing_cache()\n\nfor i in range(4):\n    inputs = [torch.rand((100 + i, 3, 224, 224)).to(\"cuda\")]\n\n    start.record()\n    model(*inputs)  # Recompile\n    end.record()\n    torch.cuda.synchronize()\n    times.append(start.elapsed_time(end))\n\nprint(\"----------------dynamo_compile----------------\")\nprint(\"Without engine caching, used:\", times[0], \"ms\")\nprint(\"With engine caching used:\", times[1], \"ms\")\nprint(\"With engine caching used:\", times[2], \"ms\")\nprint(\"With engine caching used:\", times[3], \"ms\")"
      ]
    }
  ],
  "metadata": {
    "kernelspec": {
      "display_name": "Python 3",
      "language": "python",
      "name": "python3"
    },
    "language_info": {
      "codemirror_mode": {
        "name": "ipython",
        "version": 3
      },
      "file_extension": ".py",
      "mimetype": "text/x-python",
      "name": "python",
      "nbconvert_exporter": "python",
      "pygments_lexer": "ipython3",
      "version": "3.11.11"
    }
  },
  "nbformat": 4,
  "nbformat_minor": 0
}